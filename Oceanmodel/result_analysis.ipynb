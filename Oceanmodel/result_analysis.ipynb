{
 "cells": [
  {
   "cell_type": "code",
   "execution_count": null,
   "metadata": {},
   "outputs": [],
   "source": [
    "'''\n",
    "Flag KPIs\n",
    "\n",
    "1.\n",
    "2.\n",
    "3.\n",
    "\n",
    "'''\n",
    "\n",
    "'''\n",
    "run ML model analysis\n",
    "'''"
   ]
  }
 ],
 "metadata": {
  "language_info": {
   "name": "python"
  },
  "orig_nbformat": 4
 },
 "nbformat": 4,
 "nbformat_minor": 2
}
